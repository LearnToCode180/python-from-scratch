{
 "cells": [
  {
   "cell_type": "markdown",
   "metadata": {},
   "source": [
    "# Variables"
   ]
  },
  {
   "cell_type": "code",
   "execution_count": 4,
   "metadata": {},
   "outputs": [
    {
     "name": "stdout",
     "output_type": "stream",
     "text": [
      "Hello  World\n",
      "Hello  World\n",
      "4\n",
      "1 3 hi\n",
      "<class 'int'> 1\n",
      "<class 'str'> 1\n",
      "1111111111\n",
      "<class 'complex'>\n",
      "<class 'str'>\n",
      "<class 'int'>\n",
      "<class 'float'>\n",
      "500000.0\n",
      "False\n",
      "True\n",
      "laksjdfkd lkjads fklj lkajdsf !\n",
      " aslkdjf lakjsdf lkaj df\n",
      "laksjdfkd lkjads fklj lkajdsf ! aslkdjf lakjsdf lkaj df laksjdfkd lkjads fklj lkajdsf ! aslkdjf lakjsdf lkaj dflaksjdfkd lkjads fklj lkajdsf ! aslkdjf lakjsdf lkaj df\n",
      "lkjadskf lkasjdfklj adslkfj kljasdf \n",
      "ldsakjf lkajsdf lkj asdf\n",
      "      lakjsdf  lkasjdf \n",
      "var1: 4 -- var2: 2.3 -- var3: cloud\n",
      "var1: cloud -- var2: 2.3 -- var3: 4\n",
      "var1: 4 -- var2: 2.300000 -- var3: cloud\n",
      "<class 'float'>\n"
     ]
    }
   ],
   "source": [
    "x = \"Hello\"\n",
    "y = \"World\"\n",
    "X = 5\n",
    "print(x + \" \", y)\n",
    "print(x + ' ', y)\n",
    "a = b = c = 4\n",
    "print(a)\n",
    "a, b, c = 1, 3, \"hi\"\n",
    "print(a, b, c)\n",
    "a_string = str(a)\n",
    "print(type(a), a)\n",
    "print(type(a_string), a_string)\n",
    "print(a_string * 10)\n",
    "\n",
    "# Camel Case\n",
    "myIntVariable = 14\n",
    "\n",
    "# Pascale Case\n",
    "MyIntVariable = 14\n",
    "\n",
    "# Snake Case\n",
    "my_int_variable = 14\n",
    "\n",
    "x = 1 + 2j\n",
    "print(type(x))\n",
    "\n",
    "y = \"5\"\n",
    "print(type(y))\n",
    "y = int(y)\n",
    "print(type(y))\n",
    "y = float(y)\n",
    "print(type(y))\n",
    "\n",
    "a = 5e5\n",
    "print(a)\n",
    "\n",
    "\n",
    "print(4 > 5)\n",
    "print(4 <= 5)\n",
    "\n",
    "\n",
    "print(\"laksjdfkd lkjads fklj lkajdsf !\\n aslkdjf lakjsdf lkaj df\")\n",
    "print(\"laksjdfkd lkjads fklj lkajdsf ! aslkdjf lakjsdf lkaj df laksjdfkd lkjads fklj lkajdsf ! aslkdjf lakjsdf lkaj dflaksjdfkd lkjads \\\n",
    "fklj lkajdsf ! aslkdjf lakjsdf lkaj df\")\n",
    "\n",
    "print(\"\"\"lkjadskf lkasjdfklj adslkfj kljasdf \n",
    "ldsakjf lkajsdf lkj asdf\n",
    "      lakjsdf  lkasjdf \"\"\")\n",
    "\n",
    "var1 = 4\n",
    "var2 = 2.3\n",
    "var3 = \"cloud\"\n",
    "\n",
    "print(f\"var1: {var1} -- var2: {var2} -- var3: {var3}\")\n",
    "print(\"var1: {2} -- var2: {1} -- var3: {0}\".format(var1, var2, var3))\n",
    "print(\"var1: %d -- var2: %f -- var3: %s\"%(var1, var2, var3))\n",
    "\n",
    "name = float(input(\"give me a number: \"))\n",
    "print(type(name))"
   ]
  },
  {
   "cell_type": "markdown",
   "metadata": {},
   "source": [
    "# Operators and Conditions"
   ]
  },
  {
   "cell_type": "code",
   "execution_count": 5,
   "metadata": {},
   "outputs": [
    {
     "name": "stdout",
     "output_type": "stream",
     "text": [
      "b is greater than a\n",
      "b is greater than a\n",
      "the other case\n",
      "the other case\n",
      "B\n",
      "B\n"
     ]
    }
   ],
   "source": [
    "a = 2\n",
    "b = 5\n",
    "\n",
    "c = a + b\n",
    "c = a - b\n",
    "c = a * b\n",
    "c = a / b\n",
    "c = a % b\n",
    "c = a // b\n",
    "\n",
    "#*********************************************\n",
    "\n",
    "#a += b  # a = a + b\n",
    "\n",
    "#*********************************************\n",
    "\n",
    "if a > b: # >  <  >=  <=  ==  !=\n",
    "    print(\"a is greater than b\")\n",
    "else:\n",
    "    print(\"b is greater than a\")\n",
    "\n",
    "#*********************************************\n",
    "\n",
    "if a > b:\n",
    "    print(\"a is greater than b\")\n",
    "elif a == b:\n",
    "    print(\"a and b are equal\")\n",
    "else:\n",
    "    print(\"b is greater than a\")\n",
    "\n",
    "#*********************************************\n",
    "\n",
    "if a > b and a > 10: # &\n",
    "    print(\"great !\")\n",
    "else:\n",
    "    print(\"the other case\")\n",
    "    \n",
    "if a > b or a > 10: # |\n",
    "    print(\"great !\")\n",
    "else:\n",
    "    print(\"the other case\")\n",
    "    \n",
    "#*********************************************\n",
    "\n",
    "if a > b: print(\"a is greater than b\")\n",
    "print(\"A\") if a > b else print(\"B\")\n",
    "print(\"A\") if a > b else print(\"B\") if a < b else print(\"=\")\n",
    "    \n"
   ]
  },
  {
   "cell_type": "markdown",
   "metadata": {},
   "source": [
    "# For and While Loops"
   ]
  },
  {
   "cell_type": "code",
   "execution_count": 27,
   "metadata": {},
   "outputs": [
    {
     "name": "stdout",
     "output_type": "stream",
     "text": [
      "A\n",
      "n\n",
      "a\n",
      "s\n"
     ]
    }
   ],
   "source": [
    "i = 0\n",
    "# while i < 10:\n",
    "#     print(i)\n",
    "#     if i == 17:\n",
    "#         break\n",
    "#     i += 1\n",
    "# else:\n",
    "#     print(\"My loop has been finished\")\n",
    "    \n",
    "# while i < 10:\n",
    "#     i += 1\n",
    "#     if i == 5:\n",
    "#         continue\n",
    "#     print(i)\n",
    "\n",
    "# for i in range(5):\n",
    "#     print(i)\n",
    "    \n",
    "# for i in range(1,10):\n",
    "#     print(i)\n",
    "\n",
    "for i in range(1,10,3):\n",
    "    pass\n",
    "\n",
    "if i == 0:\n",
    "    pass\n",
    "\n",
    "# for i in \"Anas\":\n",
    "#     print(i)\n",
    "    \n",
    "st = \"Anas\"\n",
    "for i in range(len(st)):\n",
    "    print(st[i])"
   ]
  },
  {
   "cell_type": "markdown",
   "metadata": {},
   "source": [
    "# List []"
   ]
  },
  {
   "cell_type": "code",
   "execution_count": 1,
   "metadata": {},
   "outputs": [],
   "source": [
    "lt = []\n",
    "lt1 = list()"
   ]
  },
  {
   "cell_type": "code",
   "execution_count": 3,
   "metadata": {},
   "outputs": [
    {
     "data": {
      "text/plain": [
       "list"
      ]
     },
     "execution_count": 3,
     "metadata": {},
     "output_type": "execute_result"
    }
   ],
   "source": [
    "type(lt1)"
   ]
  },
  {
   "cell_type": "code",
   "execution_count": 4,
   "metadata": {},
   "outputs": [],
   "source": [
    "lt = [4, 5, 6, \"anas\", ['azdad', 45]]"
   ]
  },
  {
   "cell_type": "code",
   "execution_count": 5,
   "metadata": {},
   "outputs": [
    {
     "name": "stdout",
     "output_type": "stream",
     "text": [
      "[4, 5, 6, 'anas', ['azdad', 45]]\n"
     ]
    }
   ],
   "source": [
    "print(lt)"
   ]
  },
  {
   "cell_type": "code",
   "execution_count": 7,
   "metadata": {},
   "outputs": [
    {
     "data": {
      "text/plain": [
       "[4, 5, 6, 'anas', ['azdad', 45], 0, 0]"
      ]
     },
     "execution_count": 7,
     "metadata": {},
     "output_type": "execute_result"
    }
   ],
   "source": [
    "lt.append(0)\n",
    "lt"
   ]
  },
  {
   "cell_type": "code",
   "execution_count": 10,
   "metadata": {},
   "outputs": [
    {
     "data": {
      "text/plain": [
       "['hello', 5, 6, 'anas', ['azdad', 45], 0]"
      ]
     },
     "execution_count": 10,
     "metadata": {},
     "output_type": "execute_result"
    }
   ],
   "source": [
    "lt.insert(0, \"hello\")\n",
    "lt"
   ]
  },
  {
   "cell_type": "code",
   "execution_count": 8,
   "metadata": {},
   "outputs": [
    {
     "data": {
      "text/plain": [
       "[4, 5, 6, 'anas', ['azdad', 45], 0]"
      ]
     },
     "execution_count": 8,
     "metadata": {},
     "output_type": "execute_result"
    }
   ],
   "source": [
    "lt.pop()\n",
    "lt"
   ]
  },
  {
   "cell_type": "code",
   "execution_count": 9,
   "metadata": {},
   "outputs": [
    {
     "data": {
      "text/plain": [
       "[5, 6, 'anas', ['azdad', 45], 0]"
      ]
     },
     "execution_count": 9,
     "metadata": {},
     "output_type": "execute_result"
    }
   ],
   "source": [
    "lt.pop(0)\n",
    "lt"
   ]
  },
  {
   "cell_type": "code",
   "execution_count": 11,
   "metadata": {},
   "outputs": [],
   "source": [
    "lt.remove('anas')"
   ]
  },
  {
   "cell_type": "code",
   "execution_count": 12,
   "metadata": {},
   "outputs": [
    {
     "data": {
      "text/plain": [
       "['hello', 5, 6, ['azdad', 45], 0]"
      ]
     },
     "execution_count": 12,
     "metadata": {},
     "output_type": "execute_result"
    }
   ],
   "source": [
    "lt"
   ]
  },
  {
   "cell_type": "markdown",
   "metadata": {},
   "source": [
    "## Exception"
   ]
  },
  {
   "cell_type": "code",
   "execution_count": 17,
   "metadata": {},
   "outputs": [
    {
     "name": "stdout",
     "output_type": "stream",
     "text": [
      "this element doesn't exist in your list\n"
     ]
    },
    {
     "data": {
      "text/plain": [
       "['hello', 5, 6, ['azdad', 45], 0]"
      ]
     },
     "execution_count": 17,
     "metadata": {},
     "output_type": "execute_result"
    }
   ],
   "source": [
    "try:\n",
    "    lt.remove('alsdjf')\n",
    "except Exception:\n",
    "    print(\"this element doesn't exist in your list\")\n",
    "lt"
   ]
  },
  {
   "cell_type": "code",
   "execution_count": 22,
   "metadata": {},
   "outputs": [
    {
     "data": {
      "text/plain": [
       "[1, 3, 4]"
      ]
     },
     "execution_count": 22,
     "metadata": {},
     "output_type": "execute_result"
    }
   ],
   "source": [
    "lt = [i for i in range(5) if i != 2 and i != 0]\n",
    "lt"
   ]
  },
  {
   "cell_type": "code",
   "execution_count": 38,
   "metadata": {},
   "outputs": [
    {
     "data": {
      "text/plain": [
       "[0, 1, 4, 5, 7]"
      ]
     },
     "execution_count": 38,
     "metadata": {},
     "output_type": "execute_result"
    }
   ],
   "source": [
    "lt = [4,5,1,0,7]\n",
    "lt.sort()\n",
    "lt"
   ]
  },
  {
   "cell_type": "code",
   "execution_count": 24,
   "metadata": {},
   "outputs": [
    {
     "data": {
      "text/plain": [
       "[7, 5, 4, 1, 0]"
      ]
     },
     "execution_count": 24,
     "metadata": {},
     "output_type": "execute_result"
    }
   ],
   "source": [
    "lt.sort(reverse=True)\n",
    "lt"
   ]
  },
  {
   "cell_type": "code",
   "execution_count": 25,
   "metadata": {},
   "outputs": [
    {
     "data": {
      "text/plain": [
       "0"
      ]
     },
     "execution_count": 25,
     "metadata": {},
     "output_type": "execute_result"
    }
   ],
   "source": [
    "min(lt)"
   ]
  },
  {
   "cell_type": "code",
   "execution_count": 26,
   "metadata": {},
   "outputs": [
    {
     "data": {
      "text/plain": [
       "7"
      ]
     },
     "execution_count": 26,
     "metadata": {},
     "output_type": "execute_result"
    }
   ],
   "source": [
    "max(lt)"
   ]
  },
  {
   "cell_type": "code",
   "execution_count": 27,
   "metadata": {},
   "outputs": [
    {
     "data": {
      "text/plain": [
       "17"
      ]
     },
     "execution_count": 27,
     "metadata": {},
     "output_type": "execute_result"
    }
   ],
   "source": [
    "sum(lt)"
   ]
  },
  {
   "cell_type": "code",
   "execution_count": 29,
   "metadata": {},
   "outputs": [
    {
     "data": {
      "text/plain": [
       "str"
      ]
     },
     "execution_count": 29,
     "metadata": {},
     "output_type": "execute_result"
    }
   ],
   "source": [
    "type(str(lt))\n"
   ]
  },
  {
   "cell_type": "code",
   "execution_count": 30,
   "metadata": {},
   "outputs": [
    {
     "data": {
      "text/plain": [
       "7"
      ]
     },
     "execution_count": 30,
     "metadata": {},
     "output_type": "execute_result"
    }
   ],
   "source": [
    "lt[0]"
   ]
  },
  {
   "cell_type": "code",
   "execution_count": 32,
   "metadata": {},
   "outputs": [],
   "source": [
    "lt2 = [\"anas\", \"azdad\"]"
   ]
  },
  {
   "cell_type": "code",
   "execution_count": 33,
   "metadata": {},
   "outputs": [
    {
     "data": {
      "text/plain": [
       "[7, 5, 4, 1, 0, 'anas', 'azdad']"
      ]
     },
     "execution_count": 33,
     "metadata": {},
     "output_type": "execute_result"
    }
   ],
   "source": [
    "lt = lt + lt2\n",
    "lt"
   ]
  },
  {
   "cell_type": "code",
   "execution_count": 39,
   "metadata": {},
   "outputs": [
    {
     "data": {
      "text/plain": [
       "[0, 1, 4, 5, 7, 'anas', 'azdad']"
      ]
     },
     "execution_count": 39,
     "metadata": {},
     "output_type": "execute_result"
    }
   ],
   "source": [
    "lt.extend(lt2)\n",
    "lt"
   ]
  },
  {
   "cell_type": "code",
   "execution_count": 40,
   "metadata": {},
   "outputs": [
    {
     "data": {
      "text/plain": [
       "1"
      ]
     },
     "execution_count": 40,
     "metadata": {},
     "output_type": "execute_result"
    }
   ],
   "source": [
    "lt.count(5)"
   ]
  },
  {
   "cell_type": "code",
   "execution_count": 41,
   "metadata": {},
   "outputs": [],
   "source": [
    "lt.append(5)"
   ]
  },
  {
   "cell_type": "code",
   "execution_count": 42,
   "metadata": {},
   "outputs": [
    {
     "data": {
      "text/plain": [
       "2"
      ]
     },
     "execution_count": 42,
     "metadata": {},
     "output_type": "execute_result"
    }
   ],
   "source": [
    "lt.count(5)"
   ]
  },
  {
   "cell_type": "code",
   "execution_count": 8,
   "metadata": {},
   "outputs": [
    {
     "data": {
      "text/plain": [
       "[1, 2, 3, 0]"
      ]
     },
     "execution_count": 8,
     "metadata": {},
     "output_type": "execute_result"
    }
   ],
   "source": [
    "lt1 = [1, 2, 3]\n",
    "lt2 = lt1\n",
    "lt2.append(0)\n",
    "lt1 "
   ]
  },
  {
   "cell_type": "code",
   "execution_count": 12,
   "metadata": {},
   "outputs": [
    {
     "data": {
      "text/plain": [
       "[1, 2, 3]"
      ]
     },
     "execution_count": 12,
     "metadata": {},
     "output_type": "execute_result"
    }
   ],
   "source": [
    "lt1 = [1, 2, 3]\n",
    "lt2 = lt1[:]\n",
    "lt2.append(0)\n",
    "lt1 "
   ]
  },
  {
   "cell_type": "code",
   "execution_count": 13,
   "metadata": {},
   "outputs": [
    {
     "data": {
      "text/plain": [
       "[1, 2, 3]"
      ]
     },
     "execution_count": 13,
     "metadata": {},
     "output_type": "execute_result"
    }
   ],
   "source": [
    "import copy\n",
    "\n",
    "lt1 = [1, 2, 3]\n",
    "lt2 = copy.deepcopy(lt1)\n",
    "lt2.append(0)\n",
    "lt1 "
   ]
  },
  {
   "cell_type": "code",
   "execution_count": 14,
   "metadata": {},
   "outputs": [
    {
     "data": {
      "text/plain": [
       "[1, 2, 3]"
      ]
     },
     "execution_count": 14,
     "metadata": {},
     "output_type": "execute_result"
    }
   ],
   "source": [
    "from copy import deepcopy\n",
    "\n",
    "lt1 = [1, 2, 3]\n",
    "lt2 = copy.deepcopy(lt1)\n",
    "lt2.append(0)\n",
    "lt1 "
   ]
  },
  {
   "cell_type": "markdown",
   "metadata": {},
   "source": [
    "# Slicing"
   ]
  },
  {
   "cell_type": "code",
   "execution_count": 36,
   "metadata": {},
   "outputs": [
    {
     "name": "stdout",
     "output_type": "stream",
     "text": [
      "[0, 1, 2, 3, 4, 5, 6, 7, 8, 9, 10]\n"
     ]
    },
    {
     "data": {
      "text/plain": [
       "[0, 1, 2, 3, 4]"
      ]
     },
     "execution_count": 36,
     "metadata": {},
     "output_type": "execute_result"
    }
   ],
   "source": [
    "lt = [0,1,2,3,4,5,6,7,8,9,10]\n",
    "# lt[start:stop:step]\n",
    "print(lt[0:])\n",
    "lt[:5]"
   ]
  },
  {
   "cell_type": "code",
   "execution_count": 38,
   "metadata": {},
   "outputs": [
    {
     "data": {
      "text/plain": [
       "[0, 2, 4]"
      ]
     },
     "execution_count": 38,
     "metadata": {},
     "output_type": "execute_result"
    }
   ],
   "source": [
    "lt[0:5:2]"
   ]
  },
  {
   "cell_type": "code",
   "execution_count": 39,
   "metadata": {},
   "outputs": [
    {
     "data": {
      "text/plain": [
       "[0, 1, 2, 3, 4, 5, 6, 7, 8, 9, 10]"
      ]
     },
     "execution_count": 39,
     "metadata": {},
     "output_type": "execute_result"
    }
   ],
   "source": [
    "lt[:]"
   ]
  },
  {
   "cell_type": "code",
   "execution_count": 40,
   "metadata": {},
   "outputs": [
    {
     "data": {
      "text/plain": [
       "0"
      ]
     },
     "execution_count": 40,
     "metadata": {},
     "output_type": "execute_result"
    }
   ],
   "source": [
    "lt[-11]"
   ]
  },
  {
   "cell_type": "code",
   "execution_count": 41,
   "metadata": {},
   "outputs": [
    {
     "data": {
      "text/plain": [
       "10"
      ]
     },
     "execution_count": 41,
     "metadata": {},
     "output_type": "execute_result"
    }
   ],
   "source": [
    "lt[-1]"
   ]
  },
  {
   "cell_type": "code",
   "execution_count": 43,
   "metadata": {},
   "outputs": [
    {
     "data": {
      "text/plain": [
       "[6, 7, 8, 9]"
      ]
     },
     "execution_count": 43,
     "metadata": {},
     "output_type": "execute_result"
    }
   ],
   "source": [
    "lt[-5:-1]"
   ]
  },
  {
   "cell_type": "code",
   "execution_count": 44,
   "metadata": {},
   "outputs": [
    {
     "data": {
      "text/plain": [
       "[0, 1, 2, 3, 4, 5, 6, 7, 8, 9, 10]"
      ]
     },
     "execution_count": 44,
     "metadata": {},
     "output_type": "execute_result"
    }
   ],
   "source": [
    "lt[::1]"
   ]
  },
  {
   "cell_type": "code",
   "execution_count": 45,
   "metadata": {},
   "outputs": [
    {
     "data": {
      "text/plain": [
       "[10, 9, 8, 7, 6, 5, 4, 3, 2, 1, 0]"
      ]
     },
     "execution_count": 45,
     "metadata": {},
     "output_type": "execute_result"
    }
   ],
   "source": [
    "lt[::-1]"
   ]
  },
  {
   "cell_type": "code",
   "execution_count": 46,
   "metadata": {},
   "outputs": [
    {
     "data": {
      "text/plain": [
       "[10, 9, 8, 7]"
      ]
     },
     "execution_count": 46,
     "metadata": {},
     "output_type": "execute_result"
    }
   ],
   "source": [
    "lt[-1:-5:-1]"
   ]
  },
  {
   "cell_type": "code",
   "execution_count": 47,
   "metadata": {},
   "outputs": [
    {
     "data": {
      "text/plain": [
       "[10]"
      ]
     },
     "execution_count": 47,
     "metadata": {},
     "output_type": "execute_result"
    }
   ],
   "source": [
    "lt[:-2:-1]"
   ]
  },
  {
   "cell_type": "code",
   "execution_count": 48,
   "metadata": {},
   "outputs": [
    {
     "data": {
      "text/plain": [
       "[9, 8, 7, 6, 5, 4, 3, 2, 1, 0]"
      ]
     },
     "execution_count": 48,
     "metadata": {},
     "output_type": "execute_result"
    }
   ],
   "source": [
    "lt[-2::-1]"
   ]
  },
  {
   "cell_type": "code",
   "execution_count": 49,
   "metadata": {},
   "outputs": [
    {
     "data": {
      "text/plain": [
       "[1, 0]"
      ]
     },
     "execution_count": 49,
     "metadata": {},
     "output_type": "execute_result"
    }
   ],
   "source": [
    "lt[1::-1]"
   ]
  },
  {
   "cell_type": "markdown",
   "metadata": {},
   "source": [
    "# Zip and Enumerate"
   ]
  },
  {
   "cell_type": "code",
   "execution_count": 5,
   "metadata": {},
   "outputs": [
    {
     "name": "stdout",
     "output_type": "stream",
     "text": [
      "0 a1\n",
      "1 a2\n",
      "2 a3\n",
      "3 a4\n"
     ]
    }
   ],
   "source": [
    "lt1 = ['a1', 'a2', 'a3', 'a4']\n",
    "for i,elt in enumerate(lt1):\n",
    "    print(str(i) + ' ' + str(elt))"
   ]
  },
  {
   "cell_type": "code",
   "execution_count": 6,
   "metadata": {},
   "outputs": [
    {
     "name": "stdout",
     "output_type": "stream",
     "text": [
      "a1 b1\n",
      "a2 b2\n",
      "a3 b3\n",
      "a4 b4\n"
     ]
    }
   ],
   "source": [
    "lt2 = ['b1', 'b2', 'b3', 'b4']\n",
    "for a,b in zip(lt1,lt2):\n",
    "    print(str(a) + ' ' + str(b))"
   ]
  },
  {
   "cell_type": "code",
   "execution_count": 8,
   "metadata": {},
   "outputs": [
    {
     "name": "stdout",
     "output_type": "stream",
     "text": [
      "0 a1 b1\n",
      "1 a2 b2\n",
      "2 a3 b3\n",
      "3 a4 b4\n"
     ]
    }
   ],
   "source": [
    "for i,(a,b) in enumerate(zip(lt1,lt2)):\n",
    "    print(str(i) + ' ' + str(a) + ' ' + str(b)) "
   ]
  },
  {
   "cell_type": "code",
   "execution_count": null,
   "metadata": {},
   "outputs": [],
   "source": []
  }
 ],
 "metadata": {
  "interpreter": {
   "hash": "0bd0263b2349850895389e1032d04cbc5bd2ce95c132b2480249abf6cf466d9f"
  },
  "kernelspec": {
   "display_name": "Python 3.8.8 64-bit ('base': conda)",
   "name": "python3"
  },
  "language_info": {
   "codemirror_mode": {
    "name": "ipython",
    "version": 3
   },
   "file_extension": ".py",
   "mimetype": "text/x-python",
   "name": "python",
   "nbconvert_exporter": "python",
   "pygments_lexer": "ipython3",
   "version": "3.9.7"
  },
  "orig_nbformat": 4
 },
 "nbformat": 4,
 "nbformat_minor": 2
}
